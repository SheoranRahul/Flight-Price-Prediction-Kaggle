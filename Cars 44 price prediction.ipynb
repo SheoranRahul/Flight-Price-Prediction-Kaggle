{
 "cells": [
  {
   "cell_type": "markdown",
   "id": "525fea8e",
   "metadata": {},
   "source": [
    "CARS44 is a next-generation eCommerce platform for pre-owned autos (cars and bikes). We provide the best experience for car buyers by offering a wide assortment of certified cars that are home delivered with a click of a button while sellers get the best price of their vehicles in less than 1 hour. \n",
    "\n",
    "CARS44 is your single stop for buying or selling used cars, all over India. We've brought together cutting-edge technology with country-wide partners and more importantly, a deep understanding of what buyers and sellers need. We solve all pain points associated with selling an existing car or purchasing a pre-loved one. Whether you're buying or selling, you get a quick, easy, fair, transparent, hassle (and haggle) free process.\n",
    "\n",
    "\n",
    "If you’re in the market for a pre-used car, the process can be daunting. Finding the car, talking to the owner, negotiating, examining its condition, wondering what you haven’t been told, final purchase, RC Transfer, money transfer… phew, that’s a lot for you to go through, especially in a market that’s quite scattered. By visiting CARS44, we make this as simple as any other form of online shopping.\n",
    "\n",
    "Our large catalogue of cars has every make and model you want, with a thorough vetting process ensuring full transparency in quality. With easy financing options, RC Transfer assistance, and a 6-month warranty on each car, we take all the uncertainty out of the purchase process. You focus on where you’ll go when your newly purchased car comes home, we’ll take care of the rest.\n",
    "\n",
    "Since our business involves procuring second-hand cars, we have an evaluation process through which we identify what should be the ideal price of a used car. We wish to leverage the power of artificial intelligence to arrive at the correct price of the car. Hence, In this competition, you are supposed to use your data prowess and help us predict the cost of used cars given the data collected from various cities and states across India."
   ]
  },
  {
   "cell_type": "code",
   "execution_count": 1,
   "id": "e0c28acc",
   "metadata": {},
   "outputs": [],
   "source": [
    "import pandas as pd\n",
    "import numpy as np"
   ]
  },
  {
   "cell_type": "code",
   "execution_count": 2,
   "id": "81126639",
   "metadata": {},
   "outputs": [],
   "source": [
    "train=pd.read_csv(r\"C:\\Users\\Lenovo\\Downloads\\Train_cars.csv\")\n",
    "\n",
    "\n",
    "test=pd.read_csv(r\"C:\\Users\\Lenovo\\Downloads\\Test_cars.csv\")"
   ]
  },
  {
   "cell_type": "code",
   "execution_count": 3,
   "id": "cc30f1c0",
   "metadata": {},
   "outputs": [
    {
     "data": {
      "text/html": [
       "<div>\n",
       "<style scoped>\n",
       "    .dataframe tbody tr th:only-of-type {\n",
       "        vertical-align: middle;\n",
       "    }\n",
       "\n",
       "    .dataframe tbody tr th {\n",
       "        vertical-align: top;\n",
       "    }\n",
       "\n",
       "    .dataframe thead th {\n",
       "        text-align: right;\n",
       "    }\n",
       "</style>\n",
       "<table border=\"1\" class=\"dataframe\">\n",
       "  <thead>\n",
       "    <tr style=\"text-align: right;\">\n",
       "      <th></th>\n",
       "      <th>Name</th>\n",
       "      <th>Location</th>\n",
       "      <th>Year</th>\n",
       "      <th>Kilometers_Driven</th>\n",
       "      <th>Fuel_Type</th>\n",
       "      <th>Transmission</th>\n",
       "      <th>Owner_Type</th>\n",
       "      <th>Mileage</th>\n",
       "      <th>Engine</th>\n",
       "      <th>Power</th>\n",
       "      <th>Seats</th>\n",
       "      <th>New_Price</th>\n",
       "      <th>Price</th>\n",
       "    </tr>\n",
       "  </thead>\n",
       "  <tbody>\n",
       "    <tr>\n",
       "      <th>0</th>\n",
       "      <td>Maruti 800 Std BSIII</td>\n",
       "      <td>Bangalore</td>\n",
       "      <td>2012</td>\n",
       "      <td>33715</td>\n",
       "      <td>Diesel</td>\n",
       "      <td>Manual</td>\n",
       "      <td>First</td>\n",
       "      <td>16.46 kmpl</td>\n",
       "      <td>1248 CC</td>\n",
       "      <td>100 bhp</td>\n",
       "      <td>5.0</td>\n",
       "      <td>43.65 Lakh</td>\n",
       "      <td>25.53</td>\n",
       "    </tr>\n",
       "    <tr>\n",
       "      <th>1</th>\n",
       "      <td>Honda City 1.5 V AT</td>\n",
       "      <td>Delhi</td>\n",
       "      <td>2013</td>\n",
       "      <td>73977</td>\n",
       "      <td>Diesel</td>\n",
       "      <td>Manual</td>\n",
       "      <td>First</td>\n",
       "      <td>18.6 kmpl</td>\n",
       "      <td>2993 CC</td>\n",
       "      <td>61 bhp</td>\n",
       "      <td>4.0</td>\n",
       "      <td>NaN</td>\n",
       "      <td>4.58</td>\n",
       "    </tr>\n",
       "    <tr>\n",
       "      <th>2</th>\n",
       "      <td>Honda CR-V RVi MT</td>\n",
       "      <td>Delhi</td>\n",
       "      <td>2007</td>\n",
       "      <td>16460</td>\n",
       "      <td>CNG</td>\n",
       "      <td>Manual</td>\n",
       "      <td>Third</td>\n",
       "      <td>15.3 kmpl</td>\n",
       "      <td>1599 CC</td>\n",
       "      <td>140 bhp</td>\n",
       "      <td>5.0</td>\n",
       "      <td>NaN</td>\n",
       "      <td>2.37</td>\n",
       "    </tr>\n",
       "    <tr>\n",
       "      <th>3</th>\n",
       "      <td>Skoda Yeti Ambition 4X2</td>\n",
       "      <td>Kolkata</td>\n",
       "      <td>2009</td>\n",
       "      <td>35048</td>\n",
       "      <td>Petrol</td>\n",
       "      <td>Manual</td>\n",
       "      <td>First</td>\n",
       "      <td>25.47 kmpl</td>\n",
       "      <td>1196 CC</td>\n",
       "      <td>86.8 bhp</td>\n",
       "      <td>5.0</td>\n",
       "      <td>NaN</td>\n",
       "      <td>1.20</td>\n",
       "    </tr>\n",
       "    <tr>\n",
       "      <th>4</th>\n",
       "      <td>Hyundai i10 Magna LPG</td>\n",
       "      <td>Coimbatore</td>\n",
       "      <td>2013</td>\n",
       "      <td>41656</td>\n",
       "      <td>Petrol</td>\n",
       "      <td>Automatic</td>\n",
       "      <td>First</td>\n",
       "      <td>19.12 kmpl</td>\n",
       "      <td>1999 CC</td>\n",
       "      <td>115 bhp</td>\n",
       "      <td>7.0</td>\n",
       "      <td>13.26 Lakh</td>\n",
       "      <td>33.04</td>\n",
       "    </tr>\n",
       "  </tbody>\n",
       "</table>\n",
       "</div>"
      ],
      "text/plain": [
       "                      Name    Location  Year  Kilometers_Driven Fuel_Type  \\\n",
       "0     Maruti 800 Std BSIII   Bangalore  2012              33715    Diesel   \n",
       "1      Honda City 1.5 V AT       Delhi  2013              73977    Diesel   \n",
       "2        Honda CR-V RVi MT       Delhi  2007              16460       CNG   \n",
       "3  Skoda Yeti Ambition 4X2     Kolkata  2009              35048    Petrol   \n",
       "4    Hyundai i10 Magna LPG  Coimbatore  2013              41656    Petrol   \n",
       "\n",
       "  Transmission Owner_Type     Mileage   Engine     Power  Seats   New_Price  \\\n",
       "0       Manual      First  16.46 kmpl  1248 CC   100 bhp    5.0  43.65 Lakh   \n",
       "1       Manual      First   18.6 kmpl  2993 CC    61 bhp    4.0         NaN   \n",
       "2       Manual      Third   15.3 kmpl  1599 CC   140 bhp    5.0         NaN   \n",
       "3       Manual      First  25.47 kmpl  1196 CC  86.8 bhp    5.0         NaN   \n",
       "4    Automatic      First  19.12 kmpl  1999 CC   115 bhp    7.0  13.26 Lakh   \n",
       "\n",
       "   Price  \n",
       "0  25.53  \n",
       "1   4.58  \n",
       "2   2.37  \n",
       "3   1.20  \n",
       "4  33.04  "
      ]
     },
     "execution_count": 3,
     "metadata": {},
     "output_type": "execute_result"
    }
   ],
   "source": [
    "train.head()"
   ]
  },
  {
   "cell_type": "code",
   "execution_count": 4,
   "id": "e4e98b26",
   "metadata": {},
   "outputs": [
    {
     "data": {
      "text/plain": [
       "(22500, 13)"
      ]
     },
     "execution_count": 4,
     "metadata": {},
     "output_type": "execute_result"
    }
   ],
   "source": [
    "train.shape"
   ]
  },
  {
   "cell_type": "raw",
   "id": "7ea3256d",
   "metadata": {},
   "source": [
    "submission=pd.DataFrame({'Name':test.Name,'Price':avg})\n",
    "\n",
    "submission=submission.set_index('Name')\n",
    "\n",
    "submission.to_csv('Cars_price_avg9.csv')"
   ]
  },
  {
   "cell_type": "code",
   "execution_count": 5,
   "id": "05544dd8",
   "metadata": {},
   "outputs": [
    {
     "data": {
      "text/plain": [
       "Name                     0\n",
       "Location                 0\n",
       "Year                     0\n",
       "Kilometers_Driven        0\n",
       "Fuel_Type                0\n",
       "Transmission             0\n",
       "Owner_Type               0\n",
       "Mileage                 92\n",
       "Engine                  37\n",
       "Power                   85\n",
       "Seats                   92\n",
       "New_Price            18619\n",
       "Price                    0\n",
       "dtype: int64"
      ]
     },
     "execution_count": 5,
     "metadata": {},
     "output_type": "execute_result"
    }
   ],
   "source": [
    "train.isnull().sum()"
   ]
  },
  {
   "cell_type": "code",
   "execution_count": 6,
   "id": "dcd1d9bd",
   "metadata": {},
   "outputs": [
    {
     "data": {
      "text/plain": [
       "Name                     0\n",
       "Location                 0\n",
       "Year                     0\n",
       "Kilometers_Driven        0\n",
       "Fuel_Type                0\n",
       "Transmission             0\n",
       "Owner_Type               0\n",
       "Mileage                249\n",
       "Engine                  69\n",
       "Power                  232\n",
       "Seats                  246\n",
       "New_Price            43315\n",
       "dtype: int64"
      ]
     },
     "execution_count": 6,
     "metadata": {},
     "output_type": "execute_result"
    }
   ],
   "source": [
    "test.isnull().sum()"
   ]
  },
  {
   "cell_type": "code",
   "execution_count": 7,
   "id": "b23e2b13",
   "metadata": {},
   "outputs": [],
   "source": [
    "train.New_Price=train.New_Price.str.split(' ').str[0]\n",
    "\n",
    "test.New_Price=test.New_Price.str.split(' ').str[0]"
   ]
  },
  {
   "cell_type": "code",
   "execution_count": 8,
   "id": "9f800b2e",
   "metadata": {},
   "outputs": [
    {
     "name": "stdout",
     "output_type": "stream",
     "text": [
      "<class 'pandas.core.frame.DataFrame'>\n",
      "RangeIndex: 22500 entries, 0 to 22499\n",
      "Data columns (total 13 columns):\n",
      " #   Column             Non-Null Count  Dtype  \n",
      "---  ------             --------------  -----  \n",
      " 0   Name               22500 non-null  object \n",
      " 1   Location           22500 non-null  object \n",
      " 2   Year               22500 non-null  int64  \n",
      " 3   Kilometers_Driven  22500 non-null  int64  \n",
      " 4   Fuel_Type          22500 non-null  object \n",
      " 5   Transmission       22500 non-null  object \n",
      " 6   Owner_Type         22500 non-null  object \n",
      " 7   Mileage            22408 non-null  object \n",
      " 8   Engine             22463 non-null  object \n",
      " 9   Power              22415 non-null  object \n",
      " 10  Seats              22408 non-null  float64\n",
      " 11  New_Price          3881 non-null   object \n",
      " 12  Price              22500 non-null  float64\n",
      "dtypes: float64(2), int64(2), object(9)\n",
      "memory usage: 2.2+ MB\n"
     ]
    }
   ],
   "source": [
    "train.info()"
   ]
  },
  {
   "cell_type": "code",
   "execution_count": 9,
   "id": "0bf5cf6b",
   "metadata": {},
   "outputs": [],
   "source": [
    "train.New_Price=train.New_Price.astype(np.number)\n",
    "\n",
    "test.New_Price=test.New_Price.astype(np.number)"
   ]
  },
  {
   "cell_type": "code",
   "execution_count": 10,
   "id": "a01e6912",
   "metadata": {},
   "outputs": [],
   "source": [
    "train.New_Price=train.New_Price.fillna(train.New_Price.mean())\n",
    "\n",
    "test.New_Price=test.New_Price.fillna(test.New_Price.mean())"
   ]
  },
  {
   "cell_type": "raw",
   "id": "daa3e9c6",
   "metadata": {},
   "source": [
    "# dropping new price\n",
    "train=train.drop('New_Price',axis=1)\n",
    "\n",
    "test=test.drop('New_Price',axis=1)"
   ]
  },
  {
   "cell_type": "code",
   "execution_count": 11,
   "id": "fad5054a",
   "metadata": {},
   "outputs": [
    {
     "name": "stdout",
     "output_type": "stream",
     "text": [
      "<class 'pandas.core.frame.DataFrame'>\n",
      "RangeIndex: 22500 entries, 0 to 22499\n",
      "Data columns (total 13 columns):\n",
      " #   Column             Non-Null Count  Dtype  \n",
      "---  ------             --------------  -----  \n",
      " 0   Name               22500 non-null  object \n",
      " 1   Location           22500 non-null  object \n",
      " 2   Year               22500 non-null  int64  \n",
      " 3   Kilometers_Driven  22500 non-null  int64  \n",
      " 4   Fuel_Type          22500 non-null  object \n",
      " 5   Transmission       22500 non-null  object \n",
      " 6   Owner_Type         22500 non-null  object \n",
      " 7   Mileage            22408 non-null  object \n",
      " 8   Engine             22463 non-null  object \n",
      " 9   Power              22415 non-null  object \n",
      " 10  Seats              22408 non-null  float64\n",
      " 11  New_Price          22500 non-null  float64\n",
      " 12  Price              22500 non-null  float64\n",
      "dtypes: float64(3), int64(2), object(8)\n",
      "memory usage: 2.2+ MB\n"
     ]
    }
   ],
   "source": [
    "train.info()"
   ]
  },
  {
   "cell_type": "code",
   "execution_count": 12,
   "id": "2a74f186",
   "metadata": {},
   "outputs": [],
   "source": [
    "# Engine\n",
    "\n",
    "train.Engine=train['Engine'].str.split(' ').str[0]\n",
    "\n",
    "test.Engine=test['Engine'].str.split(' ').str[0]"
   ]
  },
  {
   "cell_type": "code",
   "execution_count": 13,
   "id": "5fcccc93",
   "metadata": {},
   "outputs": [],
   "source": [
    "# filling rest null values\n",
    "train.Engine=train.Engine.fillna(train.Engine.median())\n",
    "\n",
    "test.Engine=test.Engine.fillna(test.Engine.median())"
   ]
  },
  {
   "cell_type": "code",
   "execution_count": 14,
   "id": "da67cdb5",
   "metadata": {},
   "outputs": [],
   "source": [
    "# milage\n",
    "train.Mileage=train.Mileage.str.split(' ').str[0]\n",
    "\n",
    "test.Mileage=test.Mileage.str.split(' ').str[0]"
   ]
  },
  {
   "cell_type": "code",
   "execution_count": 15,
   "id": "8d8f2f21",
   "metadata": {},
   "outputs": [],
   "source": [
    "train.Mileage=train.Mileage.astype(np.number)\n",
    "\n",
    "test.Mileage=test.Mileage.astype(np.number)"
   ]
  },
  {
   "cell_type": "code",
   "execution_count": 16,
   "id": "371ce6b7",
   "metadata": {},
   "outputs": [],
   "source": [
    "import warnings\n",
    "warnings.filterwarnings('ignore')"
   ]
  },
  {
   "cell_type": "code",
   "execution_count": 17,
   "id": "0e576d7a",
   "metadata": {},
   "outputs": [],
   "source": [
    "train.Mileage=train.Mileage.fillna(train.Mileage.mean())\n",
    "\n"
   ]
  },
  {
   "cell_type": "code",
   "execution_count": 18,
   "id": "8b99aa9f",
   "metadata": {},
   "outputs": [],
   "source": [
    "test.Mileage=test.Mileage.fillna(test.Mileage.mean())"
   ]
  },
  {
   "cell_type": "code",
   "execution_count": 19,
   "id": "b3ee5440",
   "metadata": {},
   "outputs": [],
   "source": [
    "# Power \n",
    "train.Power=train.Power.str.split(' ').str[0]\n",
    "\n",
    "test.Power=test.Power.str.split(' ').str[0]"
   ]
  },
  {
   "cell_type": "code",
   "execution_count": 20,
   "id": "1622a3b0",
   "metadata": {},
   "outputs": [],
   "source": [
    "train.Power=train.Power.replace({'null':np.nan})\n",
    "\n",
    "test.Power=test.Power.replace({'null':np.nan})"
   ]
  },
  {
   "cell_type": "code",
   "execution_count": 21,
   "id": "325db5c2",
   "metadata": {},
   "outputs": [],
   "source": [
    "train.Power=train.Power.astype(np.number)\n",
    "\n",
    "test.Power=test.Power.astype(np.number)"
   ]
  },
  {
   "cell_type": "code",
   "execution_count": 22,
   "id": "8b796e23",
   "metadata": {},
   "outputs": [],
   "source": [
    "train.Power=train.Power.fillna(train.Power.mean())\n",
    "\n",
    "test.Power=test.Power.fillna(test.Power.mean())"
   ]
  },
  {
   "cell_type": "code",
   "execution_count": 23,
   "id": "0ca8cba5",
   "metadata": {},
   "outputs": [],
   "source": [
    "#Seats\n",
    "train.Seats=train.Seats.astype('object')\n",
    "\n",
    "test.Seats=test.Seats.astype('object')"
   ]
  },
  {
   "cell_type": "code",
   "execution_count": 24,
   "id": "6ca95841",
   "metadata": {},
   "outputs": [],
   "source": [
    "train.Seats=train.Seats.fillna(train.Seats.median())\n",
    "\n",
    "test.Seats=test.Seats.fillna(test.Seats.median())"
   ]
  },
  {
   "cell_type": "code",
   "execution_count": 25,
   "id": "d79e0029",
   "metadata": {},
   "outputs": [
    {
     "data": {
      "text/plain": [
       "Name                 0\n",
       "Location             0\n",
       "Year                 0\n",
       "Kilometers_Driven    0\n",
       "Fuel_Type            0\n",
       "Transmission         0\n",
       "Owner_Type           0\n",
       "Mileage              0\n",
       "Engine               0\n",
       "Power                0\n",
       "Seats                0\n",
       "New_Price            0\n",
       "Price                0\n",
       "dtype: int64"
      ]
     },
     "execution_count": 25,
     "metadata": {},
     "output_type": "execute_result"
    }
   ],
   "source": [
    "train.isnull().sum()"
   ]
  },
  {
   "cell_type": "code",
   "execution_count": 26,
   "id": "6b4ca97f",
   "metadata": {},
   "outputs": [
    {
     "data": {
      "text/plain": [
       "Name                 0\n",
       "Location             0\n",
       "Year                 0\n",
       "Kilometers_Driven    0\n",
       "Fuel_Type            0\n",
       "Transmission         0\n",
       "Owner_Type           0\n",
       "Mileage              0\n",
       "Engine               0\n",
       "Power                0\n",
       "Seats                0\n",
       "New_Price            0\n",
       "dtype: int64"
      ]
     },
     "execution_count": 26,
     "metadata": {},
     "output_type": "execute_result"
    }
   ],
   "source": [
    "test.isnull().sum()"
   ]
  },
  {
   "cell_type": "code",
   "execution_count": 27,
   "id": "283cc4a7",
   "metadata": {},
   "outputs": [
    {
     "data": {
      "text/html": [
       "<div>\n",
       "<style scoped>\n",
       "    .dataframe tbody tr th:only-of-type {\n",
       "        vertical-align: middle;\n",
       "    }\n",
       "\n",
       "    .dataframe tbody tr th {\n",
       "        vertical-align: top;\n",
       "    }\n",
       "\n",
       "    .dataframe thead th {\n",
       "        text-align: right;\n",
       "    }\n",
       "</style>\n",
       "<table border=\"1\" class=\"dataframe\">\n",
       "  <thead>\n",
       "    <tr style=\"text-align: right;\">\n",
       "      <th></th>\n",
       "      <th>Name</th>\n",
       "      <th>Location</th>\n",
       "      <th>Year</th>\n",
       "      <th>Kilometers_Driven</th>\n",
       "      <th>Fuel_Type</th>\n",
       "      <th>Transmission</th>\n",
       "      <th>Owner_Type</th>\n",
       "      <th>Mileage</th>\n",
       "      <th>Engine</th>\n",
       "      <th>Power</th>\n",
       "      <th>Seats</th>\n",
       "      <th>New_Price</th>\n",
       "      <th>Price</th>\n",
       "    </tr>\n",
       "  </thead>\n",
       "  <tbody>\n",
       "    <tr>\n",
       "      <th>0</th>\n",
       "      <td>Maruti 800 Std BSIII</td>\n",
       "      <td>Bangalore</td>\n",
       "      <td>2012</td>\n",
       "      <td>33715</td>\n",
       "      <td>Diesel</td>\n",
       "      <td>Manual</td>\n",
       "      <td>First</td>\n",
       "      <td>16.46</td>\n",
       "      <td>1248</td>\n",
       "      <td>100.0</td>\n",
       "      <td>5.0</td>\n",
       "      <td>43.65000</td>\n",
       "      <td>25.53</td>\n",
       "    </tr>\n",
       "    <tr>\n",
       "      <th>1</th>\n",
       "      <td>Honda City 1.5 V AT</td>\n",
       "      <td>Delhi</td>\n",
       "      <td>2013</td>\n",
       "      <td>73977</td>\n",
       "      <td>Diesel</td>\n",
       "      <td>Manual</td>\n",
       "      <td>First</td>\n",
       "      <td>18.60</td>\n",
       "      <td>2993</td>\n",
       "      <td>61.0</td>\n",
       "      <td>4.0</td>\n",
       "      <td>17.35136</td>\n",
       "      <td>4.58</td>\n",
       "    </tr>\n",
       "    <tr>\n",
       "      <th>2</th>\n",
       "      <td>Honda CR-V RVi MT</td>\n",
       "      <td>Delhi</td>\n",
       "      <td>2007</td>\n",
       "      <td>16460</td>\n",
       "      <td>CNG</td>\n",
       "      <td>Manual</td>\n",
       "      <td>Third</td>\n",
       "      <td>15.30</td>\n",
       "      <td>1599</td>\n",
       "      <td>140.0</td>\n",
       "      <td>5.0</td>\n",
       "      <td>17.35136</td>\n",
       "      <td>2.37</td>\n",
       "    </tr>\n",
       "    <tr>\n",
       "      <th>3</th>\n",
       "      <td>Skoda Yeti Ambition 4X2</td>\n",
       "      <td>Kolkata</td>\n",
       "      <td>2009</td>\n",
       "      <td>35048</td>\n",
       "      <td>Petrol</td>\n",
       "      <td>Manual</td>\n",
       "      <td>First</td>\n",
       "      <td>25.47</td>\n",
       "      <td>1196</td>\n",
       "      <td>86.8</td>\n",
       "      <td>5.0</td>\n",
       "      <td>17.35136</td>\n",
       "      <td>1.20</td>\n",
       "    </tr>\n",
       "    <tr>\n",
       "      <th>4</th>\n",
       "      <td>Hyundai i10 Magna LPG</td>\n",
       "      <td>Coimbatore</td>\n",
       "      <td>2013</td>\n",
       "      <td>41656</td>\n",
       "      <td>Petrol</td>\n",
       "      <td>Automatic</td>\n",
       "      <td>First</td>\n",
       "      <td>19.12</td>\n",
       "      <td>1999</td>\n",
       "      <td>115.0</td>\n",
       "      <td>7.0</td>\n",
       "      <td>13.26000</td>\n",
       "      <td>33.04</td>\n",
       "    </tr>\n",
       "  </tbody>\n",
       "</table>\n",
       "</div>"
      ],
      "text/plain": [
       "                      Name    Location  Year  Kilometers_Driven Fuel_Type  \\\n",
       "0     Maruti 800 Std BSIII   Bangalore  2012              33715    Diesel   \n",
       "1      Honda City 1.5 V AT       Delhi  2013              73977    Diesel   \n",
       "2        Honda CR-V RVi MT       Delhi  2007              16460       CNG   \n",
       "3  Skoda Yeti Ambition 4X2     Kolkata  2009              35048    Petrol   \n",
       "4    Hyundai i10 Magna LPG  Coimbatore  2013              41656    Petrol   \n",
       "\n",
       "  Transmission Owner_Type  Mileage Engine  Power  Seats  New_Price  Price  \n",
       "0       Manual      First    16.46   1248  100.0    5.0   43.65000  25.53  \n",
       "1       Manual      First    18.60   2993   61.0    4.0   17.35136   4.58  \n",
       "2       Manual      Third    15.30   1599  140.0    5.0   17.35136   2.37  \n",
       "3       Manual      First    25.47   1196   86.8    5.0   17.35136   1.20  \n",
       "4    Automatic      First    19.12   1999  115.0    7.0   13.26000  33.04  "
      ]
     },
     "execution_count": 27,
     "metadata": {},
     "output_type": "execute_result"
    }
   ],
   "source": [
    "train.head()"
   ]
  },
  {
   "cell_type": "code",
   "execution_count": 28,
   "id": "16842a92",
   "metadata": {},
   "outputs": [],
   "source": [
    "def Engine(x):\n",
    "    if x<=1300:\n",
    "        return ('Less Power')\n",
    "    \n",
    "    elif 1300<x<=1550:\n",
    "        return ('Power')\n",
    "    \n",
    "    elif 1550<x<=2000:\n",
    "        return ('More Power')\n",
    "    \n",
    "    elif 2000<x<=2500:\n",
    "        return ('Powerful')\n",
    "    \n",
    "    elif 2500<x<=3000:\n",
    "        return ('ABC')\n",
    "    \n",
    "    #elif 2000<x<2250:\n",
    "     #   return ('XYZ')\n",
    "    \n",
    "    else:\n",
    "        return ('EX Power')"
   ]
  },
  {
   "cell_type": "code",
   "execution_count": 29,
   "id": "22d486a7",
   "metadata": {},
   "outputs": [],
   "source": [
    "train.Engine=train.Engine.astype(np.number)\n",
    "\n",
    "test.Engine=test.Engine.astype(np.number)"
   ]
  },
  {
   "cell_type": "code",
   "execution_count": 30,
   "id": "36351824",
   "metadata": {},
   "outputs": [],
   "source": [
    "train.Engine=train.Engine.apply(Engine)"
   ]
  },
  {
   "cell_type": "code",
   "execution_count": 31,
   "id": "42b4ef23",
   "metadata": {},
   "outputs": [],
   "source": [
    "test.Engine=test.Engine.apply(Engine)"
   ]
  },
  {
   "cell_type": "code",
   "execution_count": 32,
   "id": "744f38eb",
   "metadata": {},
   "outputs": [],
   "source": [
    "train.Year=2022-train['Year']"
   ]
  },
  {
   "cell_type": "code",
   "execution_count": 33,
   "id": "23893588",
   "metadata": {},
   "outputs": [],
   "source": [
    "test.Year=2022-test['Year']"
   ]
  },
  {
   "cell_type": "code",
   "execution_count": 34,
   "id": "cd2877cb",
   "metadata": {},
   "outputs": [
    {
     "data": {
      "text/html": [
       "<div>\n",
       "<style scoped>\n",
       "    .dataframe tbody tr th:only-of-type {\n",
       "        vertical-align: middle;\n",
       "    }\n",
       "\n",
       "    .dataframe tbody tr th {\n",
       "        vertical-align: top;\n",
       "    }\n",
       "\n",
       "    .dataframe thead th {\n",
       "        text-align: right;\n",
       "    }\n",
       "</style>\n",
       "<table border=\"1\" class=\"dataframe\">\n",
       "  <thead>\n",
       "    <tr style=\"text-align: right;\">\n",
       "      <th></th>\n",
       "      <th>Name</th>\n",
       "      <th>Location</th>\n",
       "      <th>Year</th>\n",
       "      <th>Kilometers_Driven</th>\n",
       "      <th>Fuel_Type</th>\n",
       "      <th>Transmission</th>\n",
       "      <th>Owner_Type</th>\n",
       "      <th>Mileage</th>\n",
       "      <th>Engine</th>\n",
       "      <th>Power</th>\n",
       "      <th>Seats</th>\n",
       "      <th>New_Price</th>\n",
       "      <th>Price</th>\n",
       "    </tr>\n",
       "  </thead>\n",
       "  <tbody>\n",
       "    <tr>\n",
       "      <th>0</th>\n",
       "      <td>Maruti 800 Std BSIII</td>\n",
       "      <td>Bangalore</td>\n",
       "      <td>10</td>\n",
       "      <td>33715</td>\n",
       "      <td>Diesel</td>\n",
       "      <td>Manual</td>\n",
       "      <td>First</td>\n",
       "      <td>16.46</td>\n",
       "      <td>Less Power</td>\n",
       "      <td>100.0</td>\n",
       "      <td>5.0</td>\n",
       "      <td>43.65000</td>\n",
       "      <td>25.53</td>\n",
       "    </tr>\n",
       "    <tr>\n",
       "      <th>1</th>\n",
       "      <td>Honda City 1.5 V AT</td>\n",
       "      <td>Delhi</td>\n",
       "      <td>9</td>\n",
       "      <td>73977</td>\n",
       "      <td>Diesel</td>\n",
       "      <td>Manual</td>\n",
       "      <td>First</td>\n",
       "      <td>18.60</td>\n",
       "      <td>ABC</td>\n",
       "      <td>61.0</td>\n",
       "      <td>4.0</td>\n",
       "      <td>17.35136</td>\n",
       "      <td>4.58</td>\n",
       "    </tr>\n",
       "    <tr>\n",
       "      <th>2</th>\n",
       "      <td>Honda CR-V RVi MT</td>\n",
       "      <td>Delhi</td>\n",
       "      <td>15</td>\n",
       "      <td>16460</td>\n",
       "      <td>CNG</td>\n",
       "      <td>Manual</td>\n",
       "      <td>Third</td>\n",
       "      <td>15.30</td>\n",
       "      <td>More Power</td>\n",
       "      <td>140.0</td>\n",
       "      <td>5.0</td>\n",
       "      <td>17.35136</td>\n",
       "      <td>2.37</td>\n",
       "    </tr>\n",
       "    <tr>\n",
       "      <th>3</th>\n",
       "      <td>Skoda Yeti Ambition 4X2</td>\n",
       "      <td>Kolkata</td>\n",
       "      <td>13</td>\n",
       "      <td>35048</td>\n",
       "      <td>Petrol</td>\n",
       "      <td>Manual</td>\n",
       "      <td>First</td>\n",
       "      <td>25.47</td>\n",
       "      <td>Less Power</td>\n",
       "      <td>86.8</td>\n",
       "      <td>5.0</td>\n",
       "      <td>17.35136</td>\n",
       "      <td>1.20</td>\n",
       "    </tr>\n",
       "    <tr>\n",
       "      <th>4</th>\n",
       "      <td>Hyundai i10 Magna LPG</td>\n",
       "      <td>Coimbatore</td>\n",
       "      <td>9</td>\n",
       "      <td>41656</td>\n",
       "      <td>Petrol</td>\n",
       "      <td>Automatic</td>\n",
       "      <td>First</td>\n",
       "      <td>19.12</td>\n",
       "      <td>More Power</td>\n",
       "      <td>115.0</td>\n",
       "      <td>7.0</td>\n",
       "      <td>13.26000</td>\n",
       "      <td>33.04</td>\n",
       "    </tr>\n",
       "  </tbody>\n",
       "</table>\n",
       "</div>"
      ],
      "text/plain": [
       "                      Name    Location  Year  Kilometers_Driven Fuel_Type  \\\n",
       "0     Maruti 800 Std BSIII   Bangalore    10              33715    Diesel   \n",
       "1      Honda City 1.5 V AT       Delhi     9              73977    Diesel   \n",
       "2        Honda CR-V RVi MT       Delhi    15              16460       CNG   \n",
       "3  Skoda Yeti Ambition 4X2     Kolkata    13              35048    Petrol   \n",
       "4    Hyundai i10 Magna LPG  Coimbatore     9              41656    Petrol   \n",
       "\n",
       "  Transmission Owner_Type  Mileage      Engine  Power  Seats  New_Price  Price  \n",
       "0       Manual      First    16.46  Less Power  100.0    5.0   43.65000  25.53  \n",
       "1       Manual      First    18.60         ABC   61.0    4.0   17.35136   4.58  \n",
       "2       Manual      Third    15.30  More Power  140.0    5.0   17.35136   2.37  \n",
       "3       Manual      First    25.47  Less Power   86.8    5.0   17.35136   1.20  \n",
       "4    Automatic      First    19.12  More Power  115.0    7.0   13.26000  33.04  "
      ]
     },
     "execution_count": 34,
     "metadata": {},
     "output_type": "execute_result"
    }
   ],
   "source": [
    "train.head()"
   ]
  },
  {
   "cell_type": "code",
   "execution_count": 35,
   "id": "e81628eb",
   "metadata": {},
   "outputs": [
    {
     "data": {
      "text/plain": [
       "171      48\n",
       "39465     5\n",
       "52413     5\n",
       "41124     4\n",
       "40428     4\n",
       "         ..\n",
       "63819     1\n",
       "52240     1\n",
       "44207     1\n",
       "70767     1\n",
       "42157     1\n",
       "Name: Kilometers_Driven, Length: 19026, dtype: int64"
      ]
     },
     "execution_count": 35,
     "metadata": {},
     "output_type": "execute_result"
    }
   ],
   "source": [
    "train.Kilometers_Driven.value_counts()"
   ]
  },
  {
   "cell_type": "code",
   "execution_count": 36,
   "id": "ee033809",
   "metadata": {},
   "outputs": [],
   "source": [
    "def km(x):\n",
    "    if x<=25000:\n",
    "        return ('Less Driven')\n",
    "    \n",
    "    elif 25000<x<=40000:\n",
    "        return ('Moderate Driven')\n",
    "    \n",
    "    elif 40000<x<=70000:\n",
    "        return ('Old')\n",
    "    \n",
    "    elif 70000<x<=100000:\n",
    "        return ('ABC')\n",
    "    \n",
    "    #elif 50000<x<=70000:\n",
    "      #  return ('XYZ')\n",
    "    \n",
    "    else:\n",
    "        return ('Very old')\n",
    "        "
   ]
  },
  {
   "cell_type": "code",
   "execution_count": 37,
   "id": "bfce2884",
   "metadata": {},
   "outputs": [],
   "source": [
    "train.Kilometers_Driven=train.Kilometers_Driven.apply(km)\n",
    "\n",
    "test.Kilometers_Driven=test.Kilometers_Driven.apply(km)"
   ]
  },
  {
   "cell_type": "code",
   "execution_count": 38,
   "id": "ad8028ee",
   "metadata": {},
   "outputs": [
    {
     "data": {
      "text/plain": [
       "array(['First', 'Third', 'Second', 'Fourth & Above'], dtype=object)"
      ]
     },
     "execution_count": 38,
     "metadata": {},
     "output_type": "execute_result"
    }
   ],
   "source": [
    "train.Owner_Type.unique()"
   ]
  },
  {
   "cell_type": "code",
   "execution_count": 39,
   "id": "171345e8",
   "metadata": {},
   "outputs": [],
   "source": [
    "train.Owner_Type=train.Owner_Type.replace({'Fourth & Above':0,'Third':1,'Second':2,'First':3})\n",
    "\n",
    "test.Owner_Type=test.Owner_Type.replace({'Fourth & Above':0,'Third':1,'Second':2,'First':3})"
   ]
  },
  {
   "cell_type": "code",
   "execution_count": 40,
   "id": "eb39fcfe",
   "metadata": {},
   "outputs": [
    {
     "data": {
      "text/html": [
       "<div>\n",
       "<style scoped>\n",
       "    .dataframe tbody tr th:only-of-type {\n",
       "        vertical-align: middle;\n",
       "    }\n",
       "\n",
       "    .dataframe tbody tr th {\n",
       "        vertical-align: top;\n",
       "    }\n",
       "\n",
       "    .dataframe thead th {\n",
       "        text-align: right;\n",
       "    }\n",
       "</style>\n",
       "<table border=\"1\" class=\"dataframe\">\n",
       "  <thead>\n",
       "    <tr style=\"text-align: right;\">\n",
       "      <th></th>\n",
       "      <th>Name</th>\n",
       "      <th>Location</th>\n",
       "      <th>Year</th>\n",
       "      <th>Kilometers_Driven</th>\n",
       "      <th>Fuel_Type</th>\n",
       "      <th>Transmission</th>\n",
       "      <th>Owner_Type</th>\n",
       "      <th>Mileage</th>\n",
       "      <th>Engine</th>\n",
       "      <th>Power</th>\n",
       "      <th>Seats</th>\n",
       "      <th>New_Price</th>\n",
       "      <th>Price</th>\n",
       "    </tr>\n",
       "  </thead>\n",
       "  <tbody>\n",
       "    <tr>\n",
       "      <th>0</th>\n",
       "      <td>Maruti 800 Std BSIII</td>\n",
       "      <td>Bangalore</td>\n",
       "      <td>10</td>\n",
       "      <td>Moderate Driven</td>\n",
       "      <td>Diesel</td>\n",
       "      <td>Manual</td>\n",
       "      <td>3</td>\n",
       "      <td>16.46</td>\n",
       "      <td>Less Power</td>\n",
       "      <td>100.0</td>\n",
       "      <td>5.0</td>\n",
       "      <td>43.65000</td>\n",
       "      <td>25.53</td>\n",
       "    </tr>\n",
       "    <tr>\n",
       "      <th>1</th>\n",
       "      <td>Honda City 1.5 V AT</td>\n",
       "      <td>Delhi</td>\n",
       "      <td>9</td>\n",
       "      <td>ABC</td>\n",
       "      <td>Diesel</td>\n",
       "      <td>Manual</td>\n",
       "      <td>3</td>\n",
       "      <td>18.60</td>\n",
       "      <td>ABC</td>\n",
       "      <td>61.0</td>\n",
       "      <td>4.0</td>\n",
       "      <td>17.35136</td>\n",
       "      <td>4.58</td>\n",
       "    </tr>\n",
       "    <tr>\n",
       "      <th>2</th>\n",
       "      <td>Honda CR-V RVi MT</td>\n",
       "      <td>Delhi</td>\n",
       "      <td>15</td>\n",
       "      <td>Less Driven</td>\n",
       "      <td>CNG</td>\n",
       "      <td>Manual</td>\n",
       "      <td>1</td>\n",
       "      <td>15.30</td>\n",
       "      <td>More Power</td>\n",
       "      <td>140.0</td>\n",
       "      <td>5.0</td>\n",
       "      <td>17.35136</td>\n",
       "      <td>2.37</td>\n",
       "    </tr>\n",
       "    <tr>\n",
       "      <th>3</th>\n",
       "      <td>Skoda Yeti Ambition 4X2</td>\n",
       "      <td>Kolkata</td>\n",
       "      <td>13</td>\n",
       "      <td>Moderate Driven</td>\n",
       "      <td>Petrol</td>\n",
       "      <td>Manual</td>\n",
       "      <td>3</td>\n",
       "      <td>25.47</td>\n",
       "      <td>Less Power</td>\n",
       "      <td>86.8</td>\n",
       "      <td>5.0</td>\n",
       "      <td>17.35136</td>\n",
       "      <td>1.20</td>\n",
       "    </tr>\n",
       "    <tr>\n",
       "      <th>4</th>\n",
       "      <td>Hyundai i10 Magna LPG</td>\n",
       "      <td>Coimbatore</td>\n",
       "      <td>9</td>\n",
       "      <td>Old</td>\n",
       "      <td>Petrol</td>\n",
       "      <td>Automatic</td>\n",
       "      <td>3</td>\n",
       "      <td>19.12</td>\n",
       "      <td>More Power</td>\n",
       "      <td>115.0</td>\n",
       "      <td>7.0</td>\n",
       "      <td>13.26000</td>\n",
       "      <td>33.04</td>\n",
       "    </tr>\n",
       "  </tbody>\n",
       "</table>\n",
       "</div>"
      ],
      "text/plain": [
       "                      Name    Location  Year Kilometers_Driven Fuel_Type  \\\n",
       "0     Maruti 800 Std BSIII   Bangalore    10   Moderate Driven    Diesel   \n",
       "1      Honda City 1.5 V AT       Delhi     9               ABC    Diesel   \n",
       "2        Honda CR-V RVi MT       Delhi    15       Less Driven       CNG   \n",
       "3  Skoda Yeti Ambition 4X2     Kolkata    13   Moderate Driven    Petrol   \n",
       "4    Hyundai i10 Magna LPG  Coimbatore     9               Old    Petrol   \n",
       "\n",
       "  Transmission  Owner_Type  Mileage      Engine  Power  Seats  New_Price  \\\n",
       "0       Manual           3    16.46  Less Power  100.0    5.0   43.65000   \n",
       "1       Manual           3    18.60         ABC   61.0    4.0   17.35136   \n",
       "2       Manual           1    15.30  More Power  140.0    5.0   17.35136   \n",
       "3       Manual           3    25.47  Less Power   86.8    5.0   17.35136   \n",
       "4    Automatic           3    19.12  More Power  115.0    7.0   13.26000   \n",
       "\n",
       "   Price  \n",
       "0  25.53  \n",
       "1   4.58  \n",
       "2   2.37  \n",
       "3   1.20  \n",
       "4  33.04  "
      ]
     },
     "execution_count": 40,
     "metadata": {},
     "output_type": "execute_result"
    }
   ],
   "source": [
    "train.head()"
   ]
  },
  {
   "cell_type": "code",
   "execution_count": 41,
   "id": "7126b8f8",
   "metadata": {},
   "outputs": [
    {
     "name": "stdout",
     "output_type": "stream",
     "text": [
      "<class 'pandas.core.frame.DataFrame'>\n",
      "RangeIndex: 22500 entries, 0 to 22499\n",
      "Data columns (total 13 columns):\n",
      " #   Column             Non-Null Count  Dtype  \n",
      "---  ------             --------------  -----  \n",
      " 0   Name               22500 non-null  object \n",
      " 1   Location           22500 non-null  object \n",
      " 2   Year               22500 non-null  int64  \n",
      " 3   Kilometers_Driven  22500 non-null  object \n",
      " 4   Fuel_Type          22500 non-null  object \n",
      " 5   Transmission       22500 non-null  object \n",
      " 6   Owner_Type         22500 non-null  int64  \n",
      " 7   Mileage            22500 non-null  float64\n",
      " 8   Engine             22500 non-null  object \n",
      " 9   Power              22500 non-null  float64\n",
      " 10  Seats              22500 non-null  float64\n",
      " 11  New_Price          22500 non-null  float64\n",
      " 12  Price              22500 non-null  float64\n",
      "dtypes: float64(5), int64(2), object(6)\n",
      "memory usage: 2.2+ MB\n"
     ]
    }
   ],
   "source": [
    "# scaling \n",
    "train.info()"
   ]
  },
  {
   "cell_type": "code",
   "execution_count": 42,
   "id": "844b4205",
   "metadata": {},
   "outputs": [],
   "source": [
    "train.Owner_Type=train.Owner_Type.astype('object')\n",
    "\n",
    "test.Owner_Type=test.Owner_Type.astype('object')"
   ]
  },
  {
   "cell_type": "raw",
   "id": "6a32277c",
   "metadata": {},
   "source": [
    "train.Seats=train.Seats.astype('object')\n",
    "\n",
    "test.Seats=test.Seats.astype('object')"
   ]
  },
  {
   "cell_type": "code",
   "execution_count": 43,
   "id": "117b33c0",
   "metadata": {},
   "outputs": [],
   "source": [
    "train.Name=train.Name.str.split(' ').str[0]\n",
    "\n",
    "test.Name=test.Name.str.split(' ').str[0]"
   ]
  },
  {
   "cell_type": "code",
   "execution_count": 44,
   "id": "18eef10d",
   "metadata": {},
   "outputs": [],
   "source": [
    "train=train.drop('Name',axis=1)\n",
    "\n",
    "test=test.drop('Name',axis=1)"
   ]
  },
  {
   "cell_type": "code",
   "execution_count": 45,
   "id": "ef1656f2",
   "metadata": {},
   "outputs": [],
   "source": [
    "X=train.drop('Price',axis=1)\n",
    "y=train['Price']"
   ]
  },
  {
   "cell_type": "code",
   "execution_count": 46,
   "id": "ed0eeb7f",
   "metadata": {},
   "outputs": [],
   "source": [
    "num=X.select_dtypes(np.number)"
   ]
  },
  {
   "cell_type": "code",
   "execution_count": 47,
   "id": "8c26b950",
   "metadata": {},
   "outputs": [
    {
     "data": {
      "text/html": [
       "<div>\n",
       "<style scoped>\n",
       "    .dataframe tbody tr th:only-of-type {\n",
       "        vertical-align: middle;\n",
       "    }\n",
       "\n",
       "    .dataframe tbody tr th {\n",
       "        vertical-align: top;\n",
       "    }\n",
       "\n",
       "    .dataframe thead th {\n",
       "        text-align: right;\n",
       "    }\n",
       "</style>\n",
       "<table border=\"1\" class=\"dataframe\">\n",
       "  <thead>\n",
       "    <tr style=\"text-align: right;\">\n",
       "      <th></th>\n",
       "      <th>Year</th>\n",
       "      <th>Mileage</th>\n",
       "      <th>Power</th>\n",
       "      <th>Seats</th>\n",
       "      <th>New_Price</th>\n",
       "    </tr>\n",
       "  </thead>\n",
       "  <tbody>\n",
       "    <tr>\n",
       "      <th>0</th>\n",
       "      <td>10</td>\n",
       "      <td>16.46</td>\n",
       "      <td>100.000000</td>\n",
       "      <td>5.0</td>\n",
       "      <td>43.65000</td>\n",
       "    </tr>\n",
       "    <tr>\n",
       "      <th>1</th>\n",
       "      <td>9</td>\n",
       "      <td>18.60</td>\n",
       "      <td>61.000000</td>\n",
       "      <td>4.0</td>\n",
       "      <td>17.35136</td>\n",
       "    </tr>\n",
       "    <tr>\n",
       "      <th>2</th>\n",
       "      <td>15</td>\n",
       "      <td>15.30</td>\n",
       "      <td>140.000000</td>\n",
       "      <td>5.0</td>\n",
       "      <td>17.35136</td>\n",
       "    </tr>\n",
       "    <tr>\n",
       "      <th>3</th>\n",
       "      <td>13</td>\n",
       "      <td>25.47</td>\n",
       "      <td>86.800000</td>\n",
       "      <td>5.0</td>\n",
       "      <td>17.35136</td>\n",
       "    </tr>\n",
       "    <tr>\n",
       "      <th>4</th>\n",
       "      <td>9</td>\n",
       "      <td>19.12</td>\n",
       "      <td>115.000000</td>\n",
       "      <td>7.0</td>\n",
       "      <td>13.26000</td>\n",
       "    </tr>\n",
       "    <tr>\n",
       "      <th>...</th>\n",
       "      <td>...</td>\n",
       "      <td>...</td>\n",
       "      <td>...</td>\n",
       "      <td>...</td>\n",
       "      <td>...</td>\n",
       "    </tr>\n",
       "    <tr>\n",
       "      <th>22495</th>\n",
       "      <td>13</td>\n",
       "      <td>21.10</td>\n",
       "      <td>100.600000</td>\n",
       "      <td>5.0</td>\n",
       "      <td>17.35136</td>\n",
       "    </tr>\n",
       "    <tr>\n",
       "      <th>22496</th>\n",
       "      <td>10</td>\n",
       "      <td>33.44</td>\n",
       "      <td>117.017897</td>\n",
       "      <td>5.0</td>\n",
       "      <td>17.35136</td>\n",
       "    </tr>\n",
       "    <tr>\n",
       "      <th>22497</th>\n",
       "      <td>11</td>\n",
       "      <td>26.21</td>\n",
       "      <td>58.160000</td>\n",
       "      <td>5.0</td>\n",
       "      <td>17.35136</td>\n",
       "    </tr>\n",
       "    <tr>\n",
       "      <th>22498</th>\n",
       "      <td>8</td>\n",
       "      <td>17.80</td>\n",
       "      <td>75.000000</td>\n",
       "      <td>5.0</td>\n",
       "      <td>17.35136</td>\n",
       "    </tr>\n",
       "    <tr>\n",
       "      <th>22499</th>\n",
       "      <td>6</td>\n",
       "      <td>26.59</td>\n",
       "      <td>201.100000</td>\n",
       "      <td>5.0</td>\n",
       "      <td>17.35136</td>\n",
       "    </tr>\n",
       "  </tbody>\n",
       "</table>\n",
       "<p>22500 rows × 5 columns</p>\n",
       "</div>"
      ],
      "text/plain": [
       "       Year  Mileage       Power  Seats  New_Price\n",
       "0        10    16.46  100.000000    5.0   43.65000\n",
       "1         9    18.60   61.000000    4.0   17.35136\n",
       "2        15    15.30  140.000000    5.0   17.35136\n",
       "3        13    25.47   86.800000    5.0   17.35136\n",
       "4         9    19.12  115.000000    7.0   13.26000\n",
       "...     ...      ...         ...    ...        ...\n",
       "22495    13    21.10  100.600000    5.0   17.35136\n",
       "22496    10    33.44  117.017897    5.0   17.35136\n",
       "22497    11    26.21   58.160000    5.0   17.35136\n",
       "22498     8    17.80   75.000000    5.0   17.35136\n",
       "22499     6    26.59  201.100000    5.0   17.35136\n",
       "\n",
       "[22500 rows x 5 columns]"
      ]
     },
     "execution_count": 47,
     "metadata": {},
     "output_type": "execute_result"
    }
   ],
   "source": [
    "num"
   ]
  },
  {
   "cell_type": "code",
   "execution_count": 48,
   "id": "3bf5e17f",
   "metadata": {},
   "outputs": [],
   "source": [
    "from sklearn.preprocessing import StandardScaler\n",
    "sc=StandardScaler()"
   ]
  },
  {
   "cell_type": "code",
   "execution_count": 49,
   "id": "b8b88ef4",
   "metadata": {},
   "outputs": [],
   "source": [
    "train_scaled=sc.fit_transform(num)"
   ]
  },
  {
   "cell_type": "code",
   "execution_count": 50,
   "id": "1768951b",
   "metadata": {},
   "outputs": [],
   "source": [
    "train_scaled=pd.DataFrame(train_scaled,columns=num.columns)"
   ]
  },
  {
   "cell_type": "code",
   "execution_count": 51,
   "id": "0ed84618",
   "metadata": {},
   "outputs": [],
   "source": [
    "cat=train.select_dtypes('object')"
   ]
  },
  {
   "cell_type": "code",
   "execution_count": 52,
   "id": "6de74bce",
   "metadata": {},
   "outputs": [],
   "source": [
    "X=pd.concat([train_scaled,cat],axis=1)"
   ]
  },
  {
   "cell_type": "code",
   "execution_count": 53,
   "id": "d8640533",
   "metadata": {},
   "outputs": [
    {
     "data": {
      "text/html": [
       "<div>\n",
       "<style scoped>\n",
       "    .dataframe tbody tr th:only-of-type {\n",
       "        vertical-align: middle;\n",
       "    }\n",
       "\n",
       "    .dataframe tbody tr th {\n",
       "        vertical-align: top;\n",
       "    }\n",
       "\n",
       "    .dataframe thead th {\n",
       "        text-align: right;\n",
       "    }\n",
       "</style>\n",
       "<table border=\"1\" class=\"dataframe\">\n",
       "  <thead>\n",
       "    <tr style=\"text-align: right;\">\n",
       "      <th></th>\n",
       "      <th>Year</th>\n",
       "      <th>Mileage</th>\n",
       "      <th>Power</th>\n",
       "      <th>Seats</th>\n",
       "      <th>New_Price</th>\n",
       "      <th>Location</th>\n",
       "      <th>Kilometers_Driven</th>\n",
       "      <th>Fuel_Type</th>\n",
       "      <th>Transmission</th>\n",
       "      <th>Owner_Type</th>\n",
       "      <th>Engine</th>\n",
       "    </tr>\n",
       "  </thead>\n",
       "  <tbody>\n",
       "    <tr>\n",
       "      <th>0</th>\n",
       "      <td>-0.067808</td>\n",
       "      <td>-0.374329</td>\n",
       "      <td>-2.657225e-01</td>\n",
       "      <td>-0.416981</td>\n",
       "      <td>3.452222e+00</td>\n",
       "      <td>Bangalore</td>\n",
       "      <td>Moderate Driven</td>\n",
       "      <td>Diesel</td>\n",
       "      <td>Manual</td>\n",
       "      <td>3</td>\n",
       "      <td>Less Power</td>\n",
       "    </tr>\n",
       "    <tr>\n",
       "      <th>1</th>\n",
       "      <td>-0.443218</td>\n",
       "      <td>0.050963</td>\n",
       "      <td>-8.746801e-01</td>\n",
       "      <td>-1.605335</td>\n",
       "      <td>2.331823e-15</td>\n",
       "      <td>Delhi</td>\n",
       "      <td>ABC</td>\n",
       "      <td>Diesel</td>\n",
       "      <td>Manual</td>\n",
       "      <td>3</td>\n",
       "      <td>ABC</td>\n",
       "    </tr>\n",
       "    <tr>\n",
       "      <th>2</th>\n",
       "      <td>1.809247</td>\n",
       "      <td>-0.604861</td>\n",
       "      <td>3.588494e-01</td>\n",
       "      <td>-0.416981</td>\n",
       "      <td>2.331823e-15</td>\n",
       "      <td>Delhi</td>\n",
       "      <td>Less Driven</td>\n",
       "      <td>CNG</td>\n",
       "      <td>Manual</td>\n",
       "      <td>1</td>\n",
       "      <td>More Power</td>\n",
       "    </tr>\n",
       "    <tr>\n",
       "      <th>3</th>\n",
       "      <td>1.058425</td>\n",
       "      <td>1.416269</td>\n",
       "      <td>-4.718312e-01</td>\n",
       "      <td>-0.416981</td>\n",
       "      <td>2.331823e-15</td>\n",
       "      <td>Kolkata</td>\n",
       "      <td>Moderate Driven</td>\n",
       "      <td>Petrol</td>\n",
       "      <td>Manual</td>\n",
       "      <td>3</td>\n",
       "      <td>Less Power</td>\n",
       "    </tr>\n",
       "    <tr>\n",
       "      <th>4</th>\n",
       "      <td>-0.443218</td>\n",
       "      <td>0.154305</td>\n",
       "      <td>-3.150805e-02</td>\n",
       "      <td>1.959729</td>\n",
       "      <td>-5.370728e-01</td>\n",
       "      <td>Coimbatore</td>\n",
       "      <td>Old</td>\n",
       "      <td>Petrol</td>\n",
       "      <td>Automatic</td>\n",
       "      <td>3</td>\n",
       "      <td>More Power</td>\n",
       "    </tr>\n",
       "    <tr>\n",
       "      <th>...</th>\n",
       "      <td>...</td>\n",
       "      <td>...</td>\n",
       "      <td>...</td>\n",
       "      <td>...</td>\n",
       "      <td>...</td>\n",
       "      <td>...</td>\n",
       "      <td>...</td>\n",
       "      <td>...</td>\n",
       "      <td>...</td>\n",
       "      <td>...</td>\n",
       "      <td>...</td>\n",
       "    </tr>\n",
       "    <tr>\n",
       "      <th>22495</th>\n",
       "      <td>1.058425</td>\n",
       "      <td>0.547799</td>\n",
       "      <td>-2.563539e-01</td>\n",
       "      <td>-0.416981</td>\n",
       "      <td>2.331823e-15</td>\n",
       "      <td>Mumbai</td>\n",
       "      <td>Moderate Driven</td>\n",
       "      <td>CNG</td>\n",
       "      <td>Manual</td>\n",
       "      <td>2</td>\n",
       "      <td>Power</td>\n",
       "    </tr>\n",
       "    <tr>\n",
       "      <th>22496</th>\n",
       "      <td>-0.067808</td>\n",
       "      <td>3.000183</td>\n",
       "      <td>5.547313e-14</td>\n",
       "      <td>-0.416981</td>\n",
       "      <td>2.331823e-15</td>\n",
       "      <td>Mumbai</td>\n",
       "      <td>Moderate Driven</td>\n",
       "      <td>Petrol</td>\n",
       "      <td>Manual</td>\n",
       "      <td>3</td>\n",
       "      <td>Less Power</td>\n",
       "    </tr>\n",
       "    <tr>\n",
       "      <th>22497</th>\n",
       "      <td>0.307603</td>\n",
       "      <td>1.563333</td>\n",
       "      <td>-9.190247e-01</td>\n",
       "      <td>-0.416981</td>\n",
       "      <td>2.331823e-15</td>\n",
       "      <td>Jaipur</td>\n",
       "      <td>Old</td>\n",
       "      <td>Diesel</td>\n",
       "      <td>Manual</td>\n",
       "      <td>3</td>\n",
       "      <td>Less Power</td>\n",
       "    </tr>\n",
       "    <tr>\n",
       "      <th>22498</th>\n",
       "      <td>-0.818629</td>\n",
       "      <td>-0.108024</td>\n",
       "      <td>-6.560800e-01</td>\n",
       "      <td>-0.416981</td>\n",
       "      <td>2.331823e-15</td>\n",
       "      <td>Mumbai</td>\n",
       "      <td>Moderate Driven</td>\n",
       "      <td>Petrol</td>\n",
       "      <td>Manual</td>\n",
       "      <td>3</td>\n",
       "      <td>Less Power</td>\n",
       "    </tr>\n",
       "    <tr>\n",
       "      <th>22499</th>\n",
       "      <td>-1.569451</td>\n",
       "      <td>1.638852</td>\n",
       "      <td>1.312883e+00</td>\n",
       "      <td>-0.416981</td>\n",
       "      <td>2.331823e-15</td>\n",
       "      <td>Kochi</td>\n",
       "      <td>Old</td>\n",
       "      <td>Diesel</td>\n",
       "      <td>Manual</td>\n",
       "      <td>3</td>\n",
       "      <td>Less Power</td>\n",
       "    </tr>\n",
       "  </tbody>\n",
       "</table>\n",
       "<p>22500 rows × 11 columns</p>\n",
       "</div>"
      ],
      "text/plain": [
       "           Year   Mileage         Power     Seats     New_Price    Location  \\\n",
       "0     -0.067808 -0.374329 -2.657225e-01 -0.416981  3.452222e+00   Bangalore   \n",
       "1     -0.443218  0.050963 -8.746801e-01 -1.605335  2.331823e-15       Delhi   \n",
       "2      1.809247 -0.604861  3.588494e-01 -0.416981  2.331823e-15       Delhi   \n",
       "3      1.058425  1.416269 -4.718312e-01 -0.416981  2.331823e-15     Kolkata   \n",
       "4     -0.443218  0.154305 -3.150805e-02  1.959729 -5.370728e-01  Coimbatore   \n",
       "...         ...       ...           ...       ...           ...         ...   \n",
       "22495  1.058425  0.547799 -2.563539e-01 -0.416981  2.331823e-15      Mumbai   \n",
       "22496 -0.067808  3.000183  5.547313e-14 -0.416981  2.331823e-15      Mumbai   \n",
       "22497  0.307603  1.563333 -9.190247e-01 -0.416981  2.331823e-15      Jaipur   \n",
       "22498 -0.818629 -0.108024 -6.560800e-01 -0.416981  2.331823e-15      Mumbai   \n",
       "22499 -1.569451  1.638852  1.312883e+00 -0.416981  2.331823e-15       Kochi   \n",
       "\n",
       "      Kilometers_Driven Fuel_Type Transmission Owner_Type      Engine  \n",
       "0       Moderate Driven    Diesel       Manual          3  Less Power  \n",
       "1                   ABC    Diesel       Manual          3         ABC  \n",
       "2           Less Driven       CNG       Manual          1  More Power  \n",
       "3       Moderate Driven    Petrol       Manual          3  Less Power  \n",
       "4                   Old    Petrol    Automatic          3  More Power  \n",
       "...                 ...       ...          ...        ...         ...  \n",
       "22495   Moderate Driven       CNG       Manual          2       Power  \n",
       "22496   Moderate Driven    Petrol       Manual          3  Less Power  \n",
       "22497               Old    Diesel       Manual          3  Less Power  \n",
       "22498   Moderate Driven    Petrol       Manual          3  Less Power  \n",
       "22499               Old    Diesel       Manual          3  Less Power  \n",
       "\n",
       "[22500 rows x 11 columns]"
      ]
     },
     "execution_count": 53,
     "metadata": {},
     "output_type": "execute_result"
    }
   ],
   "source": [
    "X"
   ]
  },
  {
   "cell_type": "code",
   "execution_count": 54,
   "id": "a1e1aeba",
   "metadata": {},
   "outputs": [],
   "source": [
    "num1=test.select_dtypes(np.number)"
   ]
  },
  {
   "cell_type": "code",
   "execution_count": 55,
   "id": "33bd23fc",
   "metadata": {},
   "outputs": [
    {
     "data": {
      "text/html": [
       "<div>\n",
       "<style scoped>\n",
       "    .dataframe tbody tr th:only-of-type {\n",
       "        vertical-align: middle;\n",
       "    }\n",
       "\n",
       "    .dataframe tbody tr th {\n",
       "        vertical-align: top;\n",
       "    }\n",
       "\n",
       "    .dataframe thead th {\n",
       "        text-align: right;\n",
       "    }\n",
       "</style>\n",
       "<table border=\"1\" class=\"dataframe\">\n",
       "  <thead>\n",
       "    <tr style=\"text-align: right;\">\n",
       "      <th></th>\n",
       "      <th>Year</th>\n",
       "      <th>Mileage</th>\n",
       "      <th>Power</th>\n",
       "      <th>Seats</th>\n",
       "      <th>New_Price</th>\n",
       "    </tr>\n",
       "  </thead>\n",
       "  <tbody>\n",
       "    <tr>\n",
       "      <th>0</th>\n",
       "      <td>12</td>\n",
       "      <td>17.80</td>\n",
       "      <td>258.000000</td>\n",
       "      <td>7.0</td>\n",
       "      <td>17.431358</td>\n",
       "    </tr>\n",
       "    <tr>\n",
       "      <th>1</th>\n",
       "      <td>11</td>\n",
       "      <td>23.90</td>\n",
       "      <td>183.000000</td>\n",
       "      <td>5.0</td>\n",
       "      <td>4.330000</td>\n",
       "    </tr>\n",
       "    <tr>\n",
       "      <th>2</th>\n",
       "      <td>8</td>\n",
       "      <td>19.59</td>\n",
       "      <td>203.000000</td>\n",
       "      <td>5.0</td>\n",
       "      <td>71.150000</td>\n",
       "    </tr>\n",
       "    <tr>\n",
       "      <th>3</th>\n",
       "      <td>5</td>\n",
       "      <td>23.90</td>\n",
       "      <td>215.000000</td>\n",
       "      <td>5.0</td>\n",
       "      <td>17.431358</td>\n",
       "    </tr>\n",
       "    <tr>\n",
       "      <th>4</th>\n",
       "      <td>7</td>\n",
       "      <td>26.60</td>\n",
       "      <td>147.800000</td>\n",
       "      <td>7.0</td>\n",
       "      <td>17.431358</td>\n",
       "    </tr>\n",
       "    <tr>\n",
       "      <th>...</th>\n",
       "      <td>...</td>\n",
       "      <td>...</td>\n",
       "      <td>...</td>\n",
       "      <td>...</td>\n",
       "      <td>...</td>\n",
       "    </tr>\n",
       "    <tr>\n",
       "      <th>52495</th>\n",
       "      <td>8</td>\n",
       "      <td>16.09</td>\n",
       "      <td>116.604678</td>\n",
       "      <td>8.0</td>\n",
       "      <td>17.431358</td>\n",
       "    </tr>\n",
       "    <tr>\n",
       "      <th>52496</th>\n",
       "      <td>5</td>\n",
       "      <td>12.60</td>\n",
       "      <td>85.800000</td>\n",
       "      <td>5.0</td>\n",
       "      <td>1.360000</td>\n",
       "    </tr>\n",
       "    <tr>\n",
       "      <th>52497</th>\n",
       "      <td>10</td>\n",
       "      <td>22.00</td>\n",
       "      <td>174.300000</td>\n",
       "      <td>5.0</td>\n",
       "      <td>10.040000</td>\n",
       "    </tr>\n",
       "    <tr>\n",
       "      <th>52498</th>\n",
       "      <td>10</td>\n",
       "      <td>10.98</td>\n",
       "      <td>112.000000</td>\n",
       "      <td>5.0</td>\n",
       "      <td>17.431358</td>\n",
       "    </tr>\n",
       "    <tr>\n",
       "      <th>52499</th>\n",
       "      <td>5</td>\n",
       "      <td>14.00</td>\n",
       "      <td>488.100000</td>\n",
       "      <td>5.0</td>\n",
       "      <td>17.431358</td>\n",
       "    </tr>\n",
       "  </tbody>\n",
       "</table>\n",
       "<p>52500 rows × 5 columns</p>\n",
       "</div>"
      ],
      "text/plain": [
       "       Year  Mileage       Power  Seats  New_Price\n",
       "0        12    17.80  258.000000    7.0  17.431358\n",
       "1        11    23.90  183.000000    5.0   4.330000\n",
       "2         8    19.59  203.000000    5.0  71.150000\n",
       "3         5    23.90  215.000000    5.0  17.431358\n",
       "4         7    26.60  147.800000    7.0  17.431358\n",
       "...     ...      ...         ...    ...        ...\n",
       "52495     8    16.09  116.604678    8.0  17.431358\n",
       "52496     5    12.60   85.800000    5.0   1.360000\n",
       "52497    10    22.00  174.300000    5.0  10.040000\n",
       "52498    10    10.98  112.000000    5.0  17.431358\n",
       "52499     5    14.00  488.100000    5.0  17.431358\n",
       "\n",
       "[52500 rows x 5 columns]"
      ]
     },
     "execution_count": 55,
     "metadata": {},
     "output_type": "execute_result"
    }
   ],
   "source": [
    "num1"
   ]
  },
  {
   "cell_type": "code",
   "execution_count": 56,
   "id": "4a8bf2f2",
   "metadata": {},
   "outputs": [],
   "source": [
    "test_scaled=sc.transform(num1)\n",
    "test_scaled=pd.DataFrame(test_scaled,columns=num1.columns)"
   ]
  },
  {
   "cell_type": "code",
   "execution_count": 57,
   "id": "48546fa7",
   "metadata": {},
   "outputs": [],
   "source": [
    "cat1=test.select_dtypes('object')"
   ]
  },
  {
   "cell_type": "code",
   "execution_count": 58,
   "id": "010f1895",
   "metadata": {},
   "outputs": [],
   "source": [
    "newtest=pd.concat([test_scaled,cat1],axis=1)"
   ]
  },
  {
   "cell_type": "code",
   "execution_count": 59,
   "id": "7a396641",
   "metadata": {},
   "outputs": [
    {
     "data": {
      "text/html": [
       "<div>\n",
       "<style scoped>\n",
       "    .dataframe tbody tr th:only-of-type {\n",
       "        vertical-align: middle;\n",
       "    }\n",
       "\n",
       "    .dataframe tbody tr th {\n",
       "        vertical-align: top;\n",
       "    }\n",
       "\n",
       "    .dataframe thead th {\n",
       "        text-align: right;\n",
       "    }\n",
       "</style>\n",
       "<table border=\"1\" class=\"dataframe\">\n",
       "  <thead>\n",
       "    <tr style=\"text-align: right;\">\n",
       "      <th></th>\n",
       "      <th>Year</th>\n",
       "      <th>Mileage</th>\n",
       "      <th>Power</th>\n",
       "      <th>Seats</th>\n",
       "      <th>New_Price</th>\n",
       "      <th>Location</th>\n",
       "      <th>Kilometers_Driven</th>\n",
       "      <th>Fuel_Type</th>\n",
       "      <th>Transmission</th>\n",
       "      <th>Owner_Type</th>\n",
       "      <th>Engine</th>\n",
       "    </tr>\n",
       "  </thead>\n",
       "  <tbody>\n",
       "    <tr>\n",
       "      <th>0</th>\n",
       "      <td>0.683014</td>\n",
       "      <td>-0.108024</td>\n",
       "      <td>2.201337</td>\n",
       "      <td>1.959729</td>\n",
       "      <td>0.010501</td>\n",
       "      <td>Delhi</td>\n",
       "      <td>Old</td>\n",
       "      <td>Diesel</td>\n",
       "      <td>Automatic</td>\n",
       "      <td>3</td>\n",
       "      <td>Less Power</td>\n",
       "    </tr>\n",
       "    <tr>\n",
       "      <th>1</th>\n",
       "      <td>0.307603</td>\n",
       "      <td>1.104256</td>\n",
       "      <td>1.030264</td>\n",
       "      <td>-0.416981</td>\n",
       "      <td>-1.709314</td>\n",
       "      <td>Jaipur</td>\n",
       "      <td>Old</td>\n",
       "      <td>Diesel</td>\n",
       "      <td>Automatic</td>\n",
       "      <td>3</td>\n",
       "      <td>Powerful</td>\n",
       "    </tr>\n",
       "    <tr>\n",
       "      <th>2</th>\n",
       "      <td>-0.818629</td>\n",
       "      <td>0.247710</td>\n",
       "      <td>1.342550</td>\n",
       "      <td>-0.416981</td>\n",
       "      <td>7.062146</td>\n",
       "      <td>Bangalore</td>\n",
       "      <td>Moderate Driven</td>\n",
       "      <td>Petrol</td>\n",
       "      <td>Automatic</td>\n",
       "      <td>3</td>\n",
       "      <td>Powerful</td>\n",
       "    </tr>\n",
       "    <tr>\n",
       "      <th>3</th>\n",
       "      <td>-1.944862</td>\n",
       "      <td>1.104256</td>\n",
       "      <td>1.529922</td>\n",
       "      <td>-0.416981</td>\n",
       "      <td>0.010501</td>\n",
       "      <td>Kochi</td>\n",
       "      <td>Old</td>\n",
       "      <td>Petrol</td>\n",
       "      <td>Manual</td>\n",
       "      <td>3</td>\n",
       "      <td>Power</td>\n",
       "    </tr>\n",
       "    <tr>\n",
       "      <th>4</th>\n",
       "      <td>-1.194040</td>\n",
       "      <td>1.640839</td>\n",
       "      <td>0.480641</td>\n",
       "      <td>1.959729</td>\n",
       "      <td>0.010501</td>\n",
       "      <td>Kochi</td>\n",
       "      <td>Less Driven</td>\n",
       "      <td>Petrol</td>\n",
       "      <td>Automatic</td>\n",
       "      <td>3</td>\n",
       "      <td>ABC</td>\n",
       "    </tr>\n",
       "    <tr>\n",
       "      <th>...</th>\n",
       "      <td>...</td>\n",
       "      <td>...</td>\n",
       "      <td>...</td>\n",
       "      <td>...</td>\n",
       "      <td>...</td>\n",
       "      <td>...</td>\n",
       "      <td>...</td>\n",
       "      <td>...</td>\n",
       "      <td>...</td>\n",
       "      <td>...</td>\n",
       "      <td>...</td>\n",
       "    </tr>\n",
       "    <tr>\n",
       "      <th>52495</th>\n",
       "      <td>-0.818629</td>\n",
       "      <td>-0.447860</td>\n",
       "      <td>-0.006452</td>\n",
       "      <td>3.148084</td>\n",
       "      <td>0.010501</td>\n",
       "      <td>Kolkata</td>\n",
       "      <td>Old</td>\n",
       "      <td>Diesel</td>\n",
       "      <td>Manual</td>\n",
       "      <td>3</td>\n",
       "      <td>Less Power</td>\n",
       "    </tr>\n",
       "    <tr>\n",
       "      <th>52496</th>\n",
       "      <td>-1.944862</td>\n",
       "      <td>-1.141444</td>\n",
       "      <td>-0.487446</td>\n",
       "      <td>-0.416981</td>\n",
       "      <td>-2.099185</td>\n",
       "      <td>Kochi</td>\n",
       "      <td>Old</td>\n",
       "      <td>Diesel</td>\n",
       "      <td>Manual</td>\n",
       "      <td>3</td>\n",
       "      <td>More Power</td>\n",
       "    </tr>\n",
       "    <tr>\n",
       "      <th>52497</th>\n",
       "      <td>-0.067808</td>\n",
       "      <td>0.726660</td>\n",
       "      <td>0.894420</td>\n",
       "      <td>-0.416981</td>\n",
       "      <td>-0.959762</td>\n",
       "      <td>Hyderabad</td>\n",
       "      <td>Old</td>\n",
       "      <td>Diesel</td>\n",
       "      <td>Manual</td>\n",
       "      <td>3</td>\n",
       "      <td>ABC</td>\n",
       "    </tr>\n",
       "    <tr>\n",
       "      <th>52498</th>\n",
       "      <td>-0.067808</td>\n",
       "      <td>-1.463394</td>\n",
       "      <td>-0.078351</td>\n",
       "      <td>-0.416981</td>\n",
       "      <td>0.010501</td>\n",
       "      <td>Hyderabad</td>\n",
       "      <td>Moderate Driven</td>\n",
       "      <td>Diesel</td>\n",
       "      <td>Manual</td>\n",
       "      <td>3</td>\n",
       "      <td>More Power</td>\n",
       "    </tr>\n",
       "    <tr>\n",
       "      <th>52499</th>\n",
       "      <td>-1.944862</td>\n",
       "      <td>-0.863215</td>\n",
       "      <td>5.794186</td>\n",
       "      <td>-0.416981</td>\n",
       "      <td>0.010501</td>\n",
       "      <td>Kolkata</td>\n",
       "      <td>Old</td>\n",
       "      <td>Petrol</td>\n",
       "      <td>Manual</td>\n",
       "      <td>3</td>\n",
       "      <td>More Power</td>\n",
       "    </tr>\n",
       "  </tbody>\n",
       "</table>\n",
       "<p>52500 rows × 11 columns</p>\n",
       "</div>"
      ],
      "text/plain": [
       "           Year   Mileage     Power     Seats  New_Price   Location  \\\n",
       "0      0.683014 -0.108024  2.201337  1.959729   0.010501      Delhi   \n",
       "1      0.307603  1.104256  1.030264 -0.416981  -1.709314     Jaipur   \n",
       "2     -0.818629  0.247710  1.342550 -0.416981   7.062146  Bangalore   \n",
       "3     -1.944862  1.104256  1.529922 -0.416981   0.010501      Kochi   \n",
       "4     -1.194040  1.640839  0.480641  1.959729   0.010501      Kochi   \n",
       "...         ...       ...       ...       ...        ...        ...   \n",
       "52495 -0.818629 -0.447860 -0.006452  3.148084   0.010501    Kolkata   \n",
       "52496 -1.944862 -1.141444 -0.487446 -0.416981  -2.099185      Kochi   \n",
       "52497 -0.067808  0.726660  0.894420 -0.416981  -0.959762  Hyderabad   \n",
       "52498 -0.067808 -1.463394 -0.078351 -0.416981   0.010501  Hyderabad   \n",
       "52499 -1.944862 -0.863215  5.794186 -0.416981   0.010501    Kolkata   \n",
       "\n",
       "      Kilometers_Driven Fuel_Type Transmission Owner_Type      Engine  \n",
       "0                   Old    Diesel    Automatic          3  Less Power  \n",
       "1                   Old    Diesel    Automatic          3    Powerful  \n",
       "2       Moderate Driven    Petrol    Automatic          3    Powerful  \n",
       "3                   Old    Petrol       Manual          3       Power  \n",
       "4           Less Driven    Petrol    Automatic          3         ABC  \n",
       "...                 ...       ...          ...        ...         ...  \n",
       "52495               Old    Diesel       Manual          3  Less Power  \n",
       "52496               Old    Diesel       Manual          3  More Power  \n",
       "52497               Old    Diesel       Manual          3         ABC  \n",
       "52498   Moderate Driven    Diesel       Manual          3  More Power  \n",
       "52499               Old    Petrol       Manual          3  More Power  \n",
       "\n",
       "[52500 rows x 11 columns]"
      ]
     },
     "execution_count": 59,
     "metadata": {},
     "output_type": "execute_result"
    }
   ],
   "source": [
    "newtest"
   ]
  },
  {
   "cell_type": "raw",
   "id": "a3d65ded",
   "metadata": {},
   "source": [
    "X.Owner_Type=X.Owner_Type.astype()\n",
    "\n",
    "newtest.Owner_Type=newtest.Owner_Type.astype(np.number)"
   ]
  },
  {
   "cell_type": "code",
   "execution_count": null,
   "id": "e11459df",
   "metadata": {},
   "outputs": [],
   "source": []
  },
  {
   "cell_type": "code",
   "execution_count": 60,
   "id": "7beb6d75",
   "metadata": {},
   "outputs": [],
   "source": [
    "X=pd.get_dummies(X,drop_first=True)\n",
    "\n"
   ]
  },
  {
   "cell_type": "code",
   "execution_count": 61,
   "id": "ea149306",
   "metadata": {},
   "outputs": [],
   "source": [
    "newtest=pd.get_dummies(newtest,drop_first=True)"
   ]
  },
  {
   "cell_type": "code",
   "execution_count": 62,
   "id": "375f9456",
   "metadata": {},
   "outputs": [
    {
     "data": {
      "text/plain": [
       "(22500, 32)"
      ]
     },
     "execution_count": 62,
     "metadata": {},
     "output_type": "execute_result"
    }
   ],
   "source": [
    "X.shape"
   ]
  },
  {
   "cell_type": "code",
   "execution_count": 63,
   "id": "ec207ed2",
   "metadata": {},
   "outputs": [
    {
     "data": {
      "text/plain": [
       "(52500, 32)"
      ]
     },
     "execution_count": 63,
     "metadata": {},
     "output_type": "execute_result"
    }
   ],
   "source": [
    "newtest.shape"
   ]
  },
  {
   "cell_type": "code",
   "execution_count": 64,
   "id": "8ee6b965",
   "metadata": {},
   "outputs": [],
   "source": [
    "# modelling\n",
    "from sklearn.ensemble import RandomForestRegressor"
   ]
  },
  {
   "cell_type": "code",
   "execution_count": 65,
   "id": "f9264419",
   "metadata": {},
   "outputs": [],
   "source": [
    "rf=RandomForestRegressor(n_estimators=50,max_depth=12)"
   ]
  },
  {
   "cell_type": "code",
   "execution_count": 66,
   "id": "b58fab42",
   "metadata": {},
   "outputs": [],
   "source": [
    "model_rf=rf.fit(X,y)"
   ]
  },
  {
   "cell_type": "code",
   "execution_count": 67,
   "id": "75095cf5",
   "metadata": {},
   "outputs": [
    {
     "data": {
      "text/plain": [
       "((22500, 32), (52500, 32))"
      ]
     },
     "execution_count": 67,
     "metadata": {},
     "output_type": "execute_result"
    }
   ],
   "source": [
    "X.shape,newtest.shape"
   ]
  },
  {
   "cell_type": "code",
   "execution_count": 68,
   "id": "20a4f8d1",
   "metadata": {},
   "outputs": [
    {
     "data": {
      "text/plain": [
       "(Index(['Year', 'Mileage', 'Power', 'Seats', 'New_Price', 'Location_Bangalore',\n",
       "        'Location_Chennai', 'Location_Coimbatore', 'Location_Delhi',\n",
       "        'Location_Hyderabad', 'Location_Jaipur', 'Location_Kochi',\n",
       "        'Location_Kolkata', 'Location_Mumbai', 'Location_Pune',\n",
       "        'Kilometers_Driven_Less Driven', 'Kilometers_Driven_Moderate Driven',\n",
       "        'Kilometers_Driven_Old', 'Kilometers_Driven_Very old',\n",
       "        'Fuel_Type_Diesel', 'Fuel_Type_Electric', 'Fuel_Type_LPG',\n",
       "        'Fuel_Type_Petrol', 'Transmission_Manual', 'Owner_Type_1',\n",
       "        'Owner_Type_2', 'Owner_Type_3', 'Engine_EX Power', 'Engine_Less Power',\n",
       "        'Engine_More Power', 'Engine_Power', 'Engine_Powerful'],\n",
       "       dtype='object'),\n",
       " Index(['Year', 'Mileage', 'Power', 'Seats', 'New_Price', 'Location_Bangalore',\n",
       "        'Location_Chennai', 'Location_Coimbatore', 'Location_Delhi',\n",
       "        'Location_Hyderabad', 'Location_Jaipur', 'Location_Kochi',\n",
       "        'Location_Kolkata', 'Location_Mumbai', 'Location_Pune',\n",
       "        'Kilometers_Driven_Less Driven', 'Kilometers_Driven_Moderate Driven',\n",
       "        'Kilometers_Driven_Old', 'Kilometers_Driven_Very old',\n",
       "        'Fuel_Type_Diesel', 'Fuel_Type_Electric', 'Fuel_Type_LPG',\n",
       "        'Fuel_Type_Petrol', 'Transmission_Manual', 'Owner_Type_1',\n",
       "        'Owner_Type_2', 'Owner_Type_3', 'Engine_EX Power', 'Engine_Less Power',\n",
       "        'Engine_More Power', 'Engine_Power', 'Engine_Powerful'],\n",
       "       dtype='object'))"
      ]
     },
     "execution_count": 68,
     "metadata": {},
     "output_type": "execute_result"
    }
   ],
   "source": [
    "X.columns,newtest.columns"
   ]
  },
  {
   "cell_type": "code",
   "execution_count": null,
   "id": "b73c537c",
   "metadata": {},
   "outputs": [],
   "source": []
  },
  {
   "cell_type": "code",
   "execution_count": 69,
   "id": "3a8df9d3",
   "metadata": {},
   "outputs": [],
   "source": [
    "pred_rf=model_rf.predict(newtest)"
   ]
  },
  {
   "cell_type": "raw",
   "id": "bb53a17d",
   "metadata": {},
   "source": [
    "submission=pd.DataFrame({'Name':test.Name,'Price':pred_rf})\n",
    "\n",
    "submission=submission.set_index('Name')\n",
    "\n",
    "submission.to_csv('Cars_price_rf6911.csv')"
   ]
  },
  {
   "cell_type": "code",
   "execution_count": 70,
   "id": "12d652ce",
   "metadata": {},
   "outputs": [],
   "source": [
    "from xgboost import XGBRegressor"
   ]
  },
  {
   "cell_type": "code",
   "execution_count": 71,
   "id": "9eda468b",
   "metadata": {},
   "outputs": [],
   "source": [
    "xg=XGBRegressor()"
   ]
  },
  {
   "cell_type": "code",
   "execution_count": 72,
   "id": "2d87c412",
   "metadata": {},
   "outputs": [],
   "source": [
    "model_xg=xg.fit(X,y)"
   ]
  },
  {
   "cell_type": "code",
   "execution_count": 73,
   "id": "072b649a",
   "metadata": {},
   "outputs": [],
   "source": [
    "pred_xg=model_xg.predict(newtest)"
   ]
  },
  {
   "cell_type": "raw",
   "id": "28965034",
   "metadata": {},
   "source": [
    "submission=pd.DataFrame({'Name':test.Name,'Price':pred_xg})\n",
    "\n",
    "submission=submission.set_index('Name')\n",
    "\n",
    "submission.to_csv('Cars_price_xg.csv')"
   ]
  },
  {
   "cell_type": "code",
   "execution_count": 74,
   "id": "986d1afd",
   "metadata": {},
   "outputs": [],
   "source": [
    "from sklearn.tree import DecisionTreeRegressor"
   ]
  },
  {
   "cell_type": "code",
   "execution_count": 75,
   "id": "98c910e3",
   "metadata": {},
   "outputs": [],
   "source": [
    "dct=DecisionTreeRegressor()"
   ]
  },
  {
   "cell_type": "code",
   "execution_count": 76,
   "id": "1fa8a07c",
   "metadata": {},
   "outputs": [],
   "source": [
    "model_dct=dct.fit(X,y)"
   ]
  },
  {
   "cell_type": "code",
   "execution_count": 77,
   "id": "b19fbbee",
   "metadata": {},
   "outputs": [],
   "source": [
    "pred_dct=model_dct.predict(newtest)"
   ]
  },
  {
   "cell_type": "raw",
   "id": "fbbe948c",
   "metadata": {},
   "source": [
    "submission=pd.DataFrame({'Name':test.Name,'Price':pred_dct})\n",
    "\n",
    "submission=submission.set_index('Name')\n",
    "\n",
    "submission.to_csv('Cars_price_dct.csv')"
   ]
  },
  {
   "cell_type": "code",
   "execution_count": 78,
   "id": "da495222",
   "metadata": {},
   "outputs": [],
   "source": [
    "import lightgbm"
   ]
  },
  {
   "cell_type": "code",
   "execution_count": 79,
   "id": "5dfe2e6a",
   "metadata": {},
   "outputs": [],
   "source": [
    "from lightgbm import LGBMRegressor"
   ]
  },
  {
   "cell_type": "code",
   "execution_count": 80,
   "id": "940f0277",
   "metadata": {},
   "outputs": [],
   "source": [
    "lgbm=LGBMRegressor(n_estimators=27)"
   ]
  },
  {
   "cell_type": "code",
   "execution_count": 81,
   "id": "4e30b692",
   "metadata": {},
   "outputs": [],
   "source": [
    "model_lgbm=lgbm.fit(X,y)"
   ]
  },
  {
   "cell_type": "code",
   "execution_count": 82,
   "id": "0c965756",
   "metadata": {},
   "outputs": [],
   "source": [
    "pred_lgbm=model_lgbm.predict(newtest)"
   ]
  },
  {
   "cell_type": "raw",
   "id": "db4feca1",
   "metadata": {},
   "source": [
    "submission=pd.DataFrame({'Name':test.Name,'Price':pred_lgbm})\n",
    "\n",
    "submission=submission.set_index('Name')\n",
    "\n",
    "submission.to_csv('Cars_price_lgbm99.csv')"
   ]
  },
  {
   "cell_type": "code",
   "execution_count": 83,
   "id": "43782cd4",
   "metadata": {},
   "outputs": [],
   "source": [
    "from sklearn.ensemble import GradientBoostingRegressor\n",
    "sgd=GradientBoostingRegressor()"
   ]
  },
  {
   "cell_type": "code",
   "execution_count": 84,
   "id": "8dd8653e",
   "metadata": {},
   "outputs": [],
   "source": [
    "model_sgd=sgd.fit(X,y)"
   ]
  },
  {
   "cell_type": "code",
   "execution_count": null,
   "id": "9afc9878",
   "metadata": {},
   "outputs": [],
   "source": [
    "submission=pd.DataFrame({'Name':test.Name,'Price':pred_sgd})\n",
    "\n",
    "submission=submission.set_index('Name')\n",
    "\n",
    "submission.to_csv('Cars_price_sgd.csv')"
   ]
  },
  {
   "cell_type": "code",
   "execution_count": null,
   "id": "70c91dbb",
   "metadata": {},
   "outputs": [],
   "source": [
    "import catboost"
   ]
  },
  {
   "cell_type": "code",
   "execution_count": null,
   "id": "4cfbae4d",
   "metadata": {},
   "outputs": [],
   "source": [
    "from catboost import CatBoostRegressor"
   ]
  },
  {
   "cell_type": "code",
   "execution_count": null,
   "id": "717cb9ae",
   "metadata": {},
   "outputs": [],
   "source": [
    "cb=CatBoostRegressor(n_estimators=50)"
   ]
  },
  {
   "cell_type": "code",
   "execution_count": null,
   "id": "cbe6724f",
   "metadata": {},
   "outputs": [],
   "source": [
    "model_cb=cb.fit(X,y)"
   ]
  },
  {
   "cell_type": "code",
   "execution_count": null,
   "id": "5e0251bd",
   "metadata": {},
   "outputs": [],
   "source": [
    "pred_cb=model_cb.predict(newtest)"
   ]
  },
  {
   "cell_type": "raw",
   "id": "40d2c01b",
   "metadata": {},
   "source": [
    "submission=pd.DataFrame({'Name':test.Name,'Price':pred_cb})\n",
    "\n",
    "submission=submission.set_index('Name')\n",
    "\n",
    "submission.to_csv('Cars_price_cb321.csv')"
   ]
  },
  {
   "cell_type": "code",
   "execution_count": 87,
   "id": "f6967cc0",
   "metadata": {},
   "outputs": [],
   "source": [
    "lgbm=LGBMRegressor(n_estimators=28)\n",
    "\n",
    "rf=RandomForestRegressor(n_estimators=75,max_depth=12)"
   ]
  },
  {
   "cell_type": "code",
   "execution_count": null,
   "id": "056d4371",
   "metadata": {},
   "outputs": [],
   "source": [
    "from sklearn.ensemble import StackingRegressor\n",
    "\n",
    "level_0 =[(\"rf\",rf)]\n",
    "\n",
    "stack= StackingRegressor(estimators=level_0, final_estimator=lgbm)\n",
    "model13=stack.fit(X,y)"
   ]
  },
  {
   "cell_type": "code",
   "execution_count": null,
   "id": "af1be4ee",
   "metadata": {},
   "outputs": [],
   "source": [
    "pred_stack=model13.predict(newtest)"
   ]
  },
  {
   "cell_type": "raw",
   "id": "2c8597db",
   "metadata": {},
   "source": [
    "submission=pd.DataFrame({'Name':test.Name,'Price':pred_stack})\n",
    "\n",
    "submission=submission.set_index('Name')\n",
    "\n",
    "submission.to_csv('Cars_price_stack2.csv')"
   ]
  },
  {
   "cell_type": "code",
   "execution_count": null,
   "id": "8d9e6d2d",
   "metadata": {},
   "outputs": [],
   "source": [
    "from sklearn.model_selection import KFold\n",
    "#from sklearn.ensemble import GradientBoostingRegressor\n",
    "\n",
    "kfold = KFold(n_splits = 3,shuffle = True)\n",
    "\n",
    "#gbm = GradientBoostingRegressor(random_state = 420)\n",
    "pred_model = pd.DataFrame()\n",
    "\n",
    "n =10\n",
    "for i in range(n):\n",
    "    folds = next(kfold.split(X))\n",
    "    xtrain = X.iloc[folds[0]]\n",
    "    ytrain = y.iloc[folds[0]]\n",
    "    pred_model[i] = lgbm.fit(X,y).predict(newtest)\n",
    "    \n",
    "    \n",
    "vals = pred_model.mean(axis=1)"
   ]
  },
  {
   "cell_type": "raw",
   "id": "2f3a1b60",
   "metadata": {},
   "source": [
    "submission=pd.DataFrame({'Name':test.Name,'Price':vals})\n",
    "\n",
    "submission=submission.set_index('Name')\n",
    "\n",
    "submission.to_csv('Cars_price_kf2.csv')"
   ]
  }
 ],
 "metadata": {
  "kernelspec": {
   "display_name": "Python 3 (ipykernel)",
   "language": "python",
   "name": "python3"
  },
  "language_info": {
   "codemirror_mode": {
    "name": "ipython",
    "version": 3
   },
   "file_extension": ".py",
   "mimetype": "text/x-python",
   "name": "python",
   "nbconvert_exporter": "python",
   "pygments_lexer": "ipython3",
   "version": "3.9.7"
  }
 },
 "nbformat": 4,
 "nbformat_minor": 5
}
